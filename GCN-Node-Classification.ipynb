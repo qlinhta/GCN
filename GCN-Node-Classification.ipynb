{
 "cells": [
  {
   "cell_type": "code",
   "execution_count": 3,
   "outputs": [],
   "source": [
    "from __future__ import print_function\n",
    "from __future__ import division\n",
    "import numpy as np\n",
    "import torch\n",
    "import math\n",
    "from torch.nn.parameter import Parameter\n",
    "from torch.nn.modules.module import Module\n",
    "import torch.nn as nn\n",
    "import torch.nn.functional as F\n",
    "import time\n",
    "import torch.optim as optim\n",
    "import matplotlib.pyplot as plt\n",
    "from tqdm import tnrange\n",
    "import pandas as pd\n",
    "from scipy.sparse import csr_matrix\n",
    "from scipy.sparse import coo_matrix\n",
    "from scipy.sparse import diags\n",
    "from scipy.sparse import eye\n",
    "from pathlib import Path\n",
    "from functools import partial\n",
    "%matplotlib inline"
   ],
   "metadata": {
    "collapsed": false,
    "pycharm": {
     "name": "#%%\n"
    }
   }
  },
  {
   "cell_type": "code",
   "execution_count": 4,
   "outputs": [],
   "source": [
    "device = torch.device('cuda') if torch.cuda.is_available() else torch.device('cpu')"
   ],
   "metadata": {
    "collapsed": false,
    "pycharm": {
     "name": "#%%\n"
    }
   }
  },
  {
   "cell_type": "code",
   "execution_count": 5,
   "outputs": [],
   "source": [
    "path = Path('cora')"
   ],
   "metadata": {
    "collapsed": false,
    "pycharm": {
     "name": "#%%\n"
    }
   }
  },
  {
   "cell_type": "code",
   "execution_count": 6,
   "outputs": [
    {
     "name": "stderr",
     "output_type": "stream",
     "text": [
      "<ipython-input-6-da90553b5f5e>:1: DeprecationWarning: `np.str` is a deprecated alias for the builtin `str`. To silence this warning, use `str` by itself. Doing this will not modify any behavior and is safe. If you specifically wanted the numpy scalar type, use `np.str_` here.\n",
      "Deprecated in NumPy 1.20; for more details and guidance: https://numpy.org/devdocs/release/1.20.0-notes.html#deprecations\n",
      "  paper_features_label = np.genfromtxt(path/'cora.content', dtype=np.str)\n"
     ]
    },
    {
     "data": {
      "text/plain": "array([['31336', '0', '0', ..., '0', '0', 'Neural_Networks'],\n       ['1061127', '0', '0', ..., '0', '0', 'Rule_Learning'],\n       ['1106406', '0', '0', ..., '0', '0', 'Reinforcement_Learning'],\n       ...,\n       ['1128978', '0', '0', ..., '0', '0', 'Genetic_Algorithms'],\n       ['117328', '0', '0', ..., '0', '0', 'Case_Based'],\n       ['24043', '0', '0', ..., '0', '0', 'Neural_Networks']],\n      dtype='<U22')"
     },
     "execution_count": 6,
     "metadata": {},
     "output_type": "execute_result"
    }
   ],
   "source": [
    "paper_features_label = np.genfromtxt(path/'cora.content', dtype=np.str)\n",
    "paper_features_label"
   ],
   "metadata": {
    "collapsed": false,
    "pycharm": {
     "name": "#%%\n"
    }
   }
  },
  {
   "cell_type": "code",
   "execution_count": 7,
   "outputs": [
    {
     "data": {
      "text/plain": "[2, 5, 4, 4, 3]"
     },
     "execution_count": 7,
     "metadata": {},
     "output_type": "execute_result"
    }
   ],
   "source": [
    "features = csr_matrix(paper_features_label[:, 1:-1], dtype=np.float32)\n",
    "labels = paper_features_label[:, -1]\n",
    "lbl2idx = {k:v for v,k in enumerate(sorted(np.unique(labels)))}\n",
    "labels = [lbl2idx[e] for e in labels]\n",
    "labels[:5]"
   ],
   "metadata": {
    "collapsed": false,
    "pycharm": {
     "name": "#%%\n"
    }
   }
  },
  {
   "cell_type": "code",
   "execution_count": 8,
   "outputs": [
    {
     "data": {
      "text/plain": "array([  31336, 1061127, 1106406, ..., 1128978,  117328,   24043],\n      dtype=int32)"
     },
     "execution_count": 8,
     "metadata": {},
     "output_type": "execute_result"
    }
   ],
   "source": [
    "papers = paper_features_label[:,0].astype(np.int32)\n",
    "papers"
   ],
   "metadata": {
    "collapsed": false,
    "pycharm": {
     "name": "#%%\n"
    }
   }
  },
  {
   "cell_type": "code",
   "execution_count": 9,
   "outputs": [
    {
     "data": {
      "text/plain": "array([[ 163,  402],\n       [ 163,  659],\n       [ 163, 1696],\n       ...,\n       [1887, 2258],\n       [1902, 1887],\n       [ 837, 1686]], dtype=int32)"
     },
     "execution_count": 9,
     "metadata": {},
     "output_type": "execute_result"
    }
   ],
   "source": [
    "paper2idx = {k:v for v,k in enumerate(papers)}\n",
    "edges = np.genfromtxt(path/'cora.cites', dtype=np.int32)\n",
    "edges = np.asarray([paper2idx[e] for e in edges.flatten()], np.int32).reshape(edges.shape)\n",
    "edges"
   ],
   "metadata": {
    "collapsed": false,
    "pycharm": {
     "name": "#%%\n"
    }
   }
  },
  {
   "cell_type": "code",
   "execution_count": 10,
   "outputs": [],
   "source": [
    "adj = coo_matrix((np.ones(edges.shape[0]), (edges[:, 0], edges[:, 1])),\n",
    "                 shape=(len(labels), len(labels)), dtype=np.float32)\n",
    "\n",
    "adj = adj + adj.T.multiply(adj.T > adj) - adj.multiply(adj.T > adj)"
   ],
   "metadata": {
    "collapsed": false,
    "pycharm": {
     "name": "#%%\n"
    }
   }
  },
  {
   "cell_type": "code",
   "execution_count": 11,
   "outputs": [],
   "source": [
    "def normalize(mx):\n",
    "    rowsum = np.array(mx.sum(1))\n",
    "    r_inv = (rowsum ** -1).flatten()\n",
    "    r_inv[np.isinf(r_inv)] = 0.\n",
    "    r_mat_inv = diags(r_inv)\n",
    "    mx = r_mat_inv.dot(mx)\n",
    "    return mx"
   ],
   "metadata": {
    "collapsed": false,
    "pycharm": {
     "name": "#%%\n"
    }
   }
  },
  {
   "cell_type": "code",
   "execution_count": 12,
   "outputs": [],
   "source": [
    "features = normalize(features)"
   ],
   "metadata": {
    "collapsed": false,
    "pycharm": {
     "name": "#%%\n"
    }
   }
  },
  {
   "cell_type": "code",
   "execution_count": 13,
   "outputs": [
    {
     "data": {
      "text/plain": "<2708x1433 sparse matrix of type '<class 'numpy.float32'>'\n\twith 49216 stored elements in Compressed Sparse Row format>"
     },
     "execution_count": 13,
     "metadata": {},
     "output_type": "execute_result"
    }
   ],
   "source": [
    "features"
   ],
   "metadata": {
    "collapsed": false,
    "pycharm": {
     "name": "#%%\n"
    }
   }
  },
  {
   "cell_type": "code",
   "execution_count": 14,
   "outputs": [],
   "source": [
    "adj = normalize(adj + eye(adj.shape[0]))"
   ],
   "metadata": {
    "collapsed": false,
    "pycharm": {
     "name": "#%%\n"
    }
   }
  },
  {
   "cell_type": "code",
   "execution_count": 15,
   "outputs": [],
   "source": [
    "adj = torch.FloatTensor(adj.todense())\n",
    "features = torch.FloatTensor(features.todense())\n",
    "labels = torch.LongTensor(labels)"
   ],
   "metadata": {
    "collapsed": false,
    "pycharm": {
     "name": "#%%\n"
    }
   }
  },
  {
   "cell_type": "code",
   "execution_count": 16,
   "outputs": [],
   "source": [
    "np.random.seed(34)\n",
    "n_train = 200\n",
    "n_val = 300\n",
    "n_test = len(features) - n_train - n_val\n",
    "idxs = np.random.permutation(len(features))\n",
    "idx_train = torch.LongTensor(idxs[:n_train])\n",
    "idx_val = torch.LongTensor(idxs[n_train:n_train + n_val])\n",
    "idx_test = torch.LongTensor(idxs[n_train + n_val:])"
   ],
   "metadata": {
    "collapsed": false,
    "pycharm": {
     "name": "#%%\n"
    }
   }
  },
  {
   "cell_type": "code",
   "execution_count": 17,
   "outputs": [],
   "source": [
    "adj = adj.to(device)\n",
    "features = features.to(device)\n",
    "labels = labels.to(device)\n",
    "idx_train = idx_train.to(device)\n",
    "idx_val = idx_val.to(device)\n",
    "idx_test = idx_test.to(device)"
   ],
   "metadata": {
    "collapsed": false,
    "pycharm": {
     "name": "#%%\n"
    }
   }
  },
  {
   "cell_type": "code",
   "execution_count": 18,
   "outputs": [],
   "source": [
    "class GraphConvolution(Module):\n",
    "\n",
    "    def __init__(self, in_features, out_features, bias=True):\n",
    "        super(GraphConvolution, self).__init__()\n",
    "        self.in_features = in_features\n",
    "        self.out_features = out_features\n",
    "        self.weight = Parameter(torch.FloatTensor(in_features, out_features))\n",
    "        if bias:\n",
    "            self.bias = Parameter(torch.FloatTensor(out_features))\n",
    "        else:\n",
    "            self.register_parameter('bias', None)\n",
    "        self.reset_parameters()\n",
    "\n",
    "    def reset_parameters(self):\n",
    "        stdv = 1. / math.sqrt(self.weight.size(1))\n",
    "        self.weight.data.uniform_(-stdv, stdv)\n",
    "        if self.bias is not None:\n",
    "            self.bias.data.uniform_(-stdv, stdv)\n",
    "\n",
    "    def forward(self, input, adj):\n",
    "        support = torch.mm(input, self.weight)\n",
    "        output = torch.spmm(adj, support)\n",
    "        if self.bias is not None:\n",
    "            return output + self.bias\n",
    "        else:\n",
    "            return output\n",
    "\n",
    "    def __repr__(self):\n",
    "        return self.__class__.__name__ + ' (' \\\n",
    "               + str(self.in_features) + ' -> ' \\\n",
    "               + str(self.out_features) + ') '\n",
    "\n",
    "\n",
    "\n",
    "class GCN(nn.Module):\n",
    "    def __init__(self, nfeat, nhid, nclass, dropout):\n",
    "        super(GCN, self).__init__()\n",
    "\n",
    "        self.gc1 = GraphConvolution(nfeat, nhid)\n",
    "        self.gc2 = GraphConvolution(nhid, nclass)\n",
    "        self.dropout = dropout\n",
    "\n",
    "    def forward(self, x, adj):\n",
    "        x = F.relu(self.gc1(x, adj))\n",
    "        x = F.dropout(x, self.dropout, training=self.training)\n",
    "        x = self.gc2(x, adj)\n",
    "        return F.log_softmax(x, dim=1)"
   ],
   "metadata": {
    "collapsed": false,
    "pycharm": {
     "name": "#%%\n"
    }
   }
  },
  {
   "cell_type": "code",
   "execution_count": 19,
   "outputs": [
    {
     "data": {
      "text/plain": "(7, 1433)"
     },
     "execution_count": 19,
     "metadata": {},
     "output_type": "execute_result"
    }
   ],
   "source": [
    "n_labels = labels.max().item() + 1\n",
    "n_features = features.shape[1]\n",
    "n_labels, n_features"
   ],
   "metadata": {
    "collapsed": false,
    "pycharm": {
     "name": "#%%\n"
    }
   }
  },
  {
   "cell_type": "code",
   "execution_count": 20,
   "outputs": [],
   "source": [
    "torch.manual_seed(34)\n",
    "\n",
    "model = GCN(nfeat=n_features,\n",
    "            nhid=20, #hidden = 16\n",
    "            nclass=n_labels,\n",
    "            dropout=0.5) #dropout = 0.5\n",
    "optimizer = optim.Adam(model.parameters(),\n",
    "                       lr=0.001, weight_decay=5e-4)\n",
    "\n",
    "\n",
    "def step():\n",
    "    t = time.time()\n",
    "    model.train()\n",
    "    optimizer.zero_grad()\n",
    "    output = model(features, adj)\n",
    "    loss = F.nll_loss(output[idx_train], labels[idx_train])\n",
    "    acc = accuracy(output[idx_train], labels[idx_train])\n",
    "    loss.backward()\n",
    "    optimizer.step()\n",
    "\n",
    "    return loss.item(), acc\n",
    "\n",
    "def accuracy(output, labels):\n",
    "    preds = output.max(1)[1].type_as(labels)\n",
    "    correct = preds.eq(labels).double()\n",
    "    correct = correct.sum()\n",
    "    return correct / len(labels)\n",
    "\n",
    "def evaluate(idx):\n",
    "    model.eval()\n",
    "    output = model(features, adj)\n",
    "    loss = F.nll_loss(output[idx], labels[idx])\n",
    "    acc = accuracy(output[idx], labels[idx])\n",
    "\n",
    "    return loss.item(), acc"
   ],
   "metadata": {
    "collapsed": false,
    "pycharm": {
     "name": "#%%\n"
    }
   }
  },
  {
   "cell_type": "code",
   "execution_count": 21,
   "outputs": [
    {
     "name": "stderr",
     "output_type": "stream",
     "text": [
      "<ipython-input-21-c5e56f4fabeb>:6: TqdmDeprecationWarning: Please use `tqdm.notebook.trange` instead of `tqdm.tnrange`\n",
      "  for i in tnrange(epochs):\n"
     ]
    },
    {
     "data": {
      "text/plain": "  0%|          | 0/1000 [00:00<?, ?it/s]",
      "application/vnd.jupyter.widget-view+json": {
       "version_major": 2,
       "version_minor": 0,
       "model_id": "9efcc37790ee415b9f33eb1ae57babc8"
      }
     },
     "metadata": {},
     "output_type": "display_data"
    },
    {
     "name": "stdout",
     "output_type": "stream",
     "text": [
      "Epochs: 0, Train Loss: 1.984, Train Acc: 0.095, Validation Loss: 1.937, Validation Acc: 0.063\n",
      "Epochs: 99, Train Loss: 1.838, Train Acc: 0.245, Validation Loss: 1.824, Validation Acc: 0.320\n",
      "Epochs: 199, Train Loss: 1.699, Train Acc: 0.365, Validation Loss: 1.731, Validation Acc: 0.397\n",
      "Epochs: 299, Train Loss: 1.515, Train Acc: 0.700, Validation Loss: 1.603, Validation Acc: 0.600\n",
      "Epochs: 399, Train Loss: 1.281, Train Acc: 0.760, Validation Loss: 1.433, Validation Acc: 0.640\n",
      "Epochs: 499, Train Loss: 1.063, Train Acc: 0.810, Validation Loss: 1.267, Validation Acc: 0.673\n",
      "Epochs: 599, Train Loss: 0.893, Train Acc: 0.870, Validation Loss: 1.135, Validation Acc: 0.723\n",
      "Epochs: 699, Train Loss: 0.761, Train Acc: 0.915, Validation Loss: 1.031, Validation Acc: 0.773\n",
      "Epochs: 799, Train Loss: 0.657, Train Acc: 0.955, Validation Loss: 0.955, Validation Acc: 0.800\n",
      "Epochs: 899, Train Loss: 0.575, Train Acc: 0.960, Validation Loss: 0.891, Validation Acc: 0.817\n",
      "Epochs: 999, Train Loss: 0.510, Train Acc: 0.965, Validation Loss: 0.841, Validation Acc: 0.823\n"
     ]
    }
   ],
   "source": [
    "epochs = 1000\n",
    "print_steps = 100\n",
    "train_loss, train_acc = [], []\n",
    "val_loss, val_acc = [], []\n",
    "\n",
    "for i in tnrange(epochs):\n",
    "    tl, ta = step()\n",
    "    train_loss += [tl]\n",
    "    train_acc += [ta]\n",
    "\n",
    "    if((i+1)%print_steps) == 0 or i == 0:\n",
    "        tl, ta = evaluate(idx_train)\n",
    "        vl, va = evaluate(idx_val)\n",
    "        val_loss += [vl]\n",
    "        val_acc += [va]\n",
    "\n",
    "        print('Epochs: {}, Train Loss: {:.3f}, Train Acc: {:.3f}, Validation Loss: {:.3f}, Validation Acc: {:.3f}'.format(i, tl, ta, vl, va))"
   ],
   "metadata": {
    "collapsed": false,
    "pycharm": {
     "name": "#%%\n"
    }
   }
  },
  {
   "cell_type": "code",
   "execution_count": 23,
   "outputs": [
    {
     "data": {
      "text/plain": "<Figure size 1080x360 with 2 Axes>",
      "image/png": "[encoded data removed]"
     },
     "metadata": {
      "needs_background": "light"
     },
     "output_type": "display_data"
    }
   ],
   "source": [
    "fig, axes = plt.subplots(1,2, figsize=(15,5))\n",
    "\n",
    "ax = axes[0]\n",
    "axes[0].plot(train_loss[::print_steps] + [train_loss[-1]], label='Train')\n",
    "axes[0].plot(val_loss, label='Validation')\n",
    "axes[1].plot(train_acc[::print_steps] + [train_acc[-1]], label='Train')\n",
    "axes[1].plot(val_acc, label='Validation')\n",
    "axes[0].grid()\n",
    "axes[1].grid()\n",
    "\n",
    "for ax, t in zip(axes, ['Loss','Accuracy']):\n",
    "    ax.legend(), ax.set_title(t, size=15)"
   ],
   "metadata": {
    "collapsed": false,
    "pycharm": {
     "name": "#%%\n"
    }
   }
  },
  {
   "cell_type": "code",
   "execution_count": 24,
   "outputs": [],
   "source": [
    "output = model(features, adj)"
   ],
   "metadata": {
    "collapsed": false,
    "pycharm": {
     "name": "#%%\n"
    }
   }
  },
  {
   "cell_type": "code",
   "execution_count": 25,
   "outputs": [
    {
     "data": {
      "text/plain": "                     Real                    Pred\n0                  Theory                  Theory\n1           Rule_Learning           Rule_Learning\n2                  Theory                  Theory\n3      Genetic_Algorithms      Genetic_Algorithms\n4  Reinforcement_Learning  Reinforcement_Learning\n5                  Theory                  Theory\n6                  Theory                  Theory\n7              Case_Based              Case_Based\n8      Genetic_Algorithms      Genetic_Algorithms\n9   Probabilistic_Methods   Probabilistic_Methods",
      "text/html": "<div>\n<style scoped>\n    .dataframe tbody tr th:only-of-type {\n        vertical-align: middle;\n    }\n\n    .dataframe tbody tr th {\n        vertical-align: top;\n    }\n\n    .dataframe thead th {\n        text-align: right;\n    }\n</style>\n<table border=\"1\" class=\"dataframe\">\n  <thead>\n    <tr style=\"text-align: right;\">\n      <th></th>\n      <th>Real</th>\n      <th>Pred</th>\n    </tr>\n  </thead>\n  <tbody>\n    <tr>\n      <th>0</th>\n      <td>Theory</td>\n      <td>Theory</td>\n    </tr>\n    <tr>\n      <th>1</th>\n      <td>Rule_Learning</td>\n      <td>Rule_Learning</td>\n    </tr>\n    <tr>\n      <th>2</th>\n      <td>Theory</td>\n      <td>Theory</td>\n    </tr>\n    <tr>\n      <th>3</th>\n      <td>Genetic_Algorithms</td>\n      <td>Genetic_Algorithms</td>\n    </tr>\n    <tr>\n      <th>4</th>\n      <td>Reinforcement_Learning</td>\n      <td>Reinforcement_Learning</td>\n    </tr>\n    <tr>\n      <th>5</th>\n      <td>Theory</td>\n      <td>Theory</td>\n    </tr>\n    <tr>\n      <th>6</th>\n      <td>Theory</td>\n      <td>Theory</td>\n    </tr>\n    <tr>\n      <th>7</th>\n      <td>Case_Based</td>\n      <td>Case_Based</td>\n    </tr>\n    <tr>\n      <th>8</th>\n      <td>Genetic_Algorithms</td>\n      <td>Genetic_Algorithms</td>\n    </tr>\n    <tr>\n      <th>9</th>\n      <td>Probabilistic_Methods</td>\n      <td>Probabilistic_Methods</td>\n    </tr>\n  </tbody>\n</table>\n</div>"
     },
     "execution_count": 25,
     "metadata": {},
     "output_type": "execute_result"
    }
   ],
   "source": [
    "samples = 10\n",
    "idx_sample = idx_test[torch.randperm(len(idx_test))[:samples]]\n",
    "\n",
    "idx2lbl = {v:k for k,v in lbl2idx.items()}\n",
    "df = pd.DataFrame({'Real': [idx2lbl[e] for e in labels[idx_sample].tolist()],\n",
    "                   'Pred': [idx2lbl[e] for e in output[idx_sample].argmax(1).tolist()]})\n",
    "df"
   ],
   "metadata": {
    "collapsed": false,
    "pycharm": {
     "name": "#%%\n"
    }
   }
  },
  {
   "cell_type": "code",
   "execution_count": null,
   "outputs": [],
   "source": [],
   "metadata": {
    "collapsed": false,
    "pycharm": {
     "name": "#%%\n"
    }
   }
  }
 ],
 "metadata": {
  "kernelspec": {
   "display_name": "Python 3",
   "language": "python",
   "name": "python3"
  },
  "language_info": {
   "codemirror_mode": {
    "name": "ipython",
    "version": 2
   },
   "file_extension": ".py",
   "mimetype": "text/x-python",
   "name": "python",
   "nbconvert_exporter": "python",
   "pygments_lexer": "ipython2",
   "version": "2.7.6"
  }
 },
 "nbformat": 4,
 "nbformat_minor": 0
}